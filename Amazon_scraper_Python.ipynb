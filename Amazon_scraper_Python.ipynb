{
 "cells": [
  {
   "cell_type": "code",
   "execution_count": 5,
   "id": "83169084",
   "metadata": {},
   "outputs": [],
   "source": [
    "from bs4 import BeautifulSoup\n",
    "import requests\n",
    "import smtplib #send email packacge\n",
    "import time\n",
    "import datetime"
   ]
  },
  {
   "cell_type": "code",
   "execution_count": 60,
   "id": "4c347bf1",
   "metadata": {},
   "outputs": [
    {
     "name": "stdout",
     "output_type": "stream",
     "text": [
      "\n",
      "                   Funny Got Data MIS Data Systems Business Analyst T-Shirt\n",
      "                  \n",
      "\n",
      "\n",
      "\n",
      "\n",
      "\n",
      "                   מחיר:\n",
      "                  \n",
      "\n",
      "\n",
      "\n",
      "\n",
      "                      $\n",
      "                     \n",
      "                     ‎16.99‎\n",
      "                    \n",
      "\n",
      "\n",
      "                      $\n",
      "                     \n",
      "                     ‎16.99‎\n",
      "                    \n",
      "\n",
      "                   ‏\n",
      "                   \n",
      "\n",
      "\n",
      "\n",
      "\n",
      "\n",
      "\n",
      "\n",
      "\n",
      "\n",
      "\n",
      "\n",
      "\n",
      "                       + ‏20.50 $\n",
      " משלוח\n",
      "                      \n",
      "\n",
      "\n",
      "\n",
      "\n",
      "\n",
      "\n",
      "\n",
      "\n",
      "\n",
      "\n"
     ]
    }
   ],
   "source": [
    "# connect to website\n",
    "\n",
    "URL = 'https://www.amazon.com/-/he/dp/B07FNW9FGJ/ref=sr_1_1?keywords=data%2Banalyst%2Bshirt&qid=1637754801&sr=8-1&customId=B0752XJYNL&th=1'\n",
    "\n",
    "headers =  {\"User-Agent\": \"Mozilla/5.0 (Windows NT 10.0; Win64; x64) AppleWebKit/537.36 (KHTML, like Gecko) Chrome/96.0.4664.45 Safari/537.36\",\n",
    "    \"Accept\": \"text/html,application/xhtml+xml\", \n",
    "    \"Accept-Encoding\": \"gzip, deflate\",  \n",
    "    \"Upgrade-Insecure-Requests\": \"1\"}\n",
    "    \n",
    "\n",
    "page = requests.get(URL,headers=headers)\n",
    "\n",
    "soup1 = BeautifulSoup(page.content, \"html.parser\")\n",
    "\n",
    "soup2 = BeautifulSoup(soup1.prettify(), \"html.parser\")\n",
    "\n",
    "title = soup2.find(id ='productTitle').get_text()\n",
    "\n",
    "price = soup2.find(id ='corePrice_desktop').get_text()\n",
    "\n",
    "print(title)\n",
    "print(price)\n",
    "\n",
    "\n",
    "\n",
    "\n",
    "\n",
    "\n",
    "\n",
    "\n"
   ]
  },
  {
   "cell_type": "code",
   "execution_count": 61,
   "id": "6a0e3182",
   "metadata": {},
   "outputs": [],
   "source": [
    "price = price.strip()[97:102]\n"
   ]
  },
  {
   "cell_type": "code",
   "execution_count": 73,
   "id": "4c7d6ab2",
   "metadata": {},
   "outputs": [
    {
     "name": "stdout",
     "output_type": "stream",
     "text": [
      "Funny Got Data MIS Data Systems Business Analyst T-Shirt\n",
      "16.99\n"
     ]
    }
   ],
   "source": [
    "title = title.strip()\n",
    "print(title)\n",
    "print(price)\n"
   ]
  },
  {
   "cell_type": "code",
   "execution_count": 78,
   "id": "bcc89365",
   "metadata": {},
   "outputs": [],
   "source": [
    "import csv\n",
    "\n",
    "header = ['Title','Price']\n",
    "data = [title,price]   #transmission from string to a list - very important(to manipulate the data)\n",
    "\n",
    "with open('Amazon_web_scraper_project.csv','w',newline='',encoding='UTF8') as f:\n",
    "    writer = csv.writer(f)\n",
    "    writer.writerow(header)\n",
    "    writer.writerow(data)\n",
    "    \n",
    "    \n",
    "\n",
    "\n",
    "\n",
    "\n",
    "\n",
    "\n"
   ]
  },
  {
   "cell_type": "code",
   "execution_count": 79,
   "id": "fc08e949",
   "metadata": {},
   "outputs": [
    {
     "name": "stdout",
     "output_type": "stream",
     "text": [
      "2021-11-28\n"
     ]
    }
   ],
   "source": [
    "import datetime\n",
    "today = datetime.date.today()\n",
    "print (today)"
   ]
  },
  {
   "cell_type": "code",
   "execution_count": 80,
   "id": "889c3bc6",
   "metadata": {},
   "outputs": [],
   "source": [
    "import csv\n",
    "\n",
    "header = ['Title','Price','Date']\n",
    "data = [title,price,today]   #transmission from string to a list - very important(to manipulate the data)\n",
    "\n",
    "# with open('Amazon_web_scraper_project.csv','w',newline='',encoding='UTF8') as f:\n",
    "   # writer = csv.writer(f)\n",
    "   # writer.writerow(header)\n",
    "   # writer.writerow(data)\n",
    "    \n",
    "    \n",
    "    \n",
    "    \n",
    "    \n",
    "    \n",
    "    \n",
    "    \n",
    "    \n",
    "    "
   ]
  },
  {
   "cell_type": "code",
   "execution_count": 85,
   "id": "cd414f7d",
   "metadata": {},
   "outputs": [
    {
     "name": "stdout",
     "output_type": "stream",
     "text": [
      "                                               Title  Price        Date\n",
      "0  Funny Got Data MIS Data Systems Business Analy...  16.99  2021-11-28\n",
      "1  Funny Got Data MIS Data Systems Business Analy...  16.99  2021-11-28\n",
      "2  Funny Got Data MIS Data Systems Business Analy...  16.99  2021-11-28\n",
      "3  Funny Got Data MIS Data Systems Business Analy...  16.99  2021-11-28\n"
     ]
    }
   ],
   "source": [
    "import pandas as pd\n",
    "\n",
    "df = pd.read_csv(r'C:\\Users\\nadavlah\\OneDrive - Intel Corporation\\Desktop\\studies\\Amazon_web_scraper_project.csv')\n",
    "\n",
    "print (df)"
   ]
  },
  {
   "cell_type": "code",
   "execution_count": 84,
   "id": "9ab7d5f7",
   "metadata": {},
   "outputs": [],
   "source": [
    "# append data to csv\n",
    "\n",
    "with open('Amazon_web_scraper_project.csv','a+',newline='',encoding='UTF8') as f:\n",
    "    writer = csv.writer(f)\n",
    "    writer.writerow(data)"
   ]
  },
  {
   "cell_type": "code",
   "execution_count": 86,
   "id": "8e1c7645",
   "metadata": {},
   "outputs": [],
   "source": [
    "def check_price():\n",
    "    URL = 'https://www.amazon.com/-/he/dp/B07FNW9FGJ/ref=sr_1_1?keywords=data%2Banalyst%2Bshirt&qid=1637754801&sr=8-1&customId=B0752XJYNL&th=1'\n",
    "\n",
    "    headers =  {\"User-Agent\": \"Mozilla/5.0 (Windows NT 10.0; Win64; x64) AppleWebKit/537.36 (KHTML, like Gecko) Chrome/96.0.4664.45 Safari/537.36\",\n",
    "    \"Accept\": \"text/html,application/xhtml+xml\", \n",
    "    \"Accept-Encoding\": \"gzip, deflate\",  \n",
    "    \"Upgrade-Insecure-Requests\": \"1\"}\n",
    "    \n",
    "\n",
    "    page = requests.get(URL,headers=headers)\n",
    "\n",
    "    soup1 = BeautifulSoup(page.content, \"html.parser\")\n",
    "\n",
    "    soup2 = BeautifulSoup(soup1.prettify(), \"html.parser\")\n",
    "\n",
    "    title = soup2.find(id ='productTitle').get_text()\n",
    "\n",
    "    price = soup2.find(id ='corePrice_desktop').get_text()\n",
    "    \n",
    "    price = price.strip()[97:102]\n",
    "    title = title.strip()\n",
    "    \n",
    "    import datetime\n",
    "    today = datetime.date.today()\n",
    "    \n",
    "    import csv\n",
    "    header = ['Title','Price','Date']\n",
    "    data = [title,price,today]\n",
    "    \n",
    "    with open('Amazon_web_scraper_project.csv','a+',newline='',encoding='UTF8') as f:\n",
    "        writer = csv.writer(f)\n",
    "        writer.writerow(data)\n",
    "    if(price < 14):\n",
    "        send_mail()\n",
    "    \n",
    "    \n",
    "    \n",
    "    \n",
    "    \n",
    "    \n",
    "    \n",
    "    "
   ]
  },
  {
   "cell_type": "code",
   "execution_count": 90,
   "id": "fc9b92df",
   "metadata": {},
   "outputs": [
    {
     "ename": "KeyboardInterrupt",
     "evalue": "",
     "output_type": "error",
     "traceback": [
      "\u001b[1;31m---------------------------------------------------------------------------\u001b[0m",
      "\u001b[1;31mKeyboardInterrupt\u001b[0m                         Traceback (most recent call last)",
      "\u001b[1;32m~\\AppData\\Local\\Temp/ipykernel_4380/3543874858.py\u001b[0m in \u001b[0;36m<module>\u001b[1;34m\u001b[0m\n\u001b[0;32m      3\u001b[0m \u001b[1;32mwhile\u001b[0m\u001b[1;33m(\u001b[0m\u001b[1;32mTrue\u001b[0m\u001b[1;33m)\u001b[0m\u001b[1;33m:\u001b[0m\u001b[1;33m\u001b[0m\u001b[1;33m\u001b[0m\u001b[0m\n\u001b[0;32m      4\u001b[0m     \u001b[0mcheck_price\u001b[0m\u001b[1;33m(\u001b[0m\u001b[1;33m)\u001b[0m\u001b[1;33m\u001b[0m\u001b[1;33m\u001b[0m\u001b[0m\n\u001b[1;32m----> 5\u001b[1;33m     \u001b[0mtime\u001b[0m\u001b[1;33m.\u001b[0m\u001b[0msleep\u001b[0m\u001b[1;33m(\u001b[0m\u001b[1;36m5\u001b[0m\u001b[1;33m)\u001b[0m\u001b[1;33m\u001b[0m\u001b[1;33m\u001b[0m\u001b[0m\n\u001b[0m\u001b[0;32m      6\u001b[0m \u001b[1;33m\u001b[0m\u001b[0m\n",
      "\u001b[1;31mKeyboardInterrupt\u001b[0m: "
     ]
    }
   ],
   "source": [
    "#using time pack\n",
    "#calculate once a day - in minutes (60*60*24=86400)\n",
    "\n",
    "while(True):\n",
    "    check_price()\n",
    "    time.sleep(86400)\n",
    "    \n",
    "    "
   ]
  },
  {
   "cell_type": "code",
   "execution_count": 91,
   "id": "df688880",
   "metadata": {},
   "outputs": [
    {
     "name": "stdout",
     "output_type": "stream",
     "text": [
      "                                               Title  Price        Date\n",
      "0  Funny Got Data MIS Data Systems Business Analy...  16.99  2021-11-28\n",
      "1  Funny Got Data MIS Data Systems Business Analy...  16.99  2021-11-28\n",
      "2  Funny Got Data MIS Data Systems Business Analy...  16.99  2021-11-28\n",
      "3  Funny Got Data MIS Data Systems Business Analy...  16.99  2021-11-28\n",
      "4  Funny Got Data MIS Data Systems Business Analy...  16.99  2021-11-28\n",
      "5  Funny Got Data MIS Data Systems Business Analy...  16.99  2021-11-28\n",
      "6  Funny Got Data MIS Data Systems Business Analy...  16.99  2021-11-28\n",
      "7  Funny Got Data MIS Data Systems Business Analy...  16.99  2021-11-28\n",
      "8  Funny Got Data MIS Data Systems Business Analy...  16.99  2021-11-28\n"
     ]
    }
   ],
   "source": [
    "import pandas as pd\n",
    "\n",
    "df = pd.read_csv(r'C:\\Users\\nadavlah\\OneDrive - Intel Corporation\\Desktop\\studies\\Amazon_web_scraper_project.csv')\n",
    "\n",
    "print (df)"
   ]
  },
  {
   "cell_type": "code",
   "execution_count": null,
   "id": "3f9dfb62",
   "metadata": {},
   "outputs": [],
   "source": [
    "def send_mail():\n",
    "    sercer = smtplib.smtp_ssl('smtp.gmail.com',465)\n",
    "    server.ehlo()\n",
    "    server.ehlo()\n",
    "    server.login('nadavlahav1@gmail.com','XXXXXXXXXXXXX')\n",
    "    \n",
    "    subject = 'The shirt is below 14$! attached link to shirt'\n",
    "    body = 'https://www.amazon.com/-/he/dp/B07FNW9FGJ/ref=sr_1_1?keywords=data%2Banalyst%2Bshirt&qid=1637754801&sr=8-1&customId=B0752XJYNL&th=1'\n",
    "    msg = f\"subject: {subject}\\n\\n{body}\"\n",
    "    \n",
    "    server.sendmail('nadavlahav1@gmail.com',\n",
    "                   msg)"
   ]
  },
  {
   "cell_type": "code",
   "execution_count": null,
   "id": "80a97412",
   "metadata": {},
   "outputs": [],
   "source": []
  },
  {
   "cell_type": "code",
   "execution_count": null,
   "id": "1bf08b12",
   "metadata": {},
   "outputs": [],
   "source": []
  }
 ],
 "metadata": {
  "kernelspec": {
   "display_name": "Python 3 (ipykernel)",
   "language": "python",
   "name": "python3"
  },
  "language_info": {
   "codemirror_mode": {
    "name": "ipython",
    "version": 3
   },
   "file_extension": ".py",
   "mimetype": "text/x-python",
   "name": "python",
   "nbconvert_exporter": "python",
   "pygments_lexer": "ipython3",
   "version": "3.9.7"
  }
 },
 "nbformat": 4,
 "nbformat_minor": 5
}
